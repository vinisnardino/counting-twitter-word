{
 "cells": [
  {
   "cell_type": "markdown",
   "metadata": {},
   "source": [
    "<h2>API do Twitter</h2>\n",
    "Contando as palavrs do twitte"
   ]
  },
  {
   "cell_type": "code",
   "execution_count": 106,
   "metadata": {
    "collapsed": true
   },
   "outputs": [
    {
     "name": "stdout",
     "output_type": "stream",
     "text": [
      "Collecting tweepy\n",
      "  Downloading tweepy-3.5.0-py2.py3-none-any.whl\n",
      "Collecting requests-oauthlib>=0.4.1 (from tweepy)\n",
      "  Downloading requests_oauthlib-0.8.0-py2.py3-none-any.whl\n",
      "Requirement already satisfied: six>=1.7.3 in ./anaconda3/lib/python3.6/site-packages (from tweepy)\n",
      "Requirement already satisfied: requests>=2.4.3 in ./anaconda3/lib/python3.6/site-packages (from tweepy)\n",
      "Collecting oauthlib>=0.6.2 (from requests-oauthlib>=0.4.1->tweepy)\n",
      "  Downloading oauthlib-2.0.2.tar.gz (125kB)\n",
      "\u001b[K    100% |████████████████████████████████| 133kB 407kB/s ta 0:00:01\n",
      "\u001b[?25hBuilding wheels for collected packages: oauthlib\n",
      "  Running setup.py bdist_wheel for oauthlib ... \u001b[?25ldone\n",
      "\u001b[?25h  Stored in directory: /home/vinisnardino/.cache/pip/wheels/84/98/7a/fba7268f61097bea6081cbe5480bc439b38975748ea7684fd5\n",
      "Successfully built oauthlib\n",
      "Installing collected packages: oauthlib, requests-oauthlib, tweepy\n",
      "Successfully installed oauthlib-2.0.2 requests-oauthlib-0.8.0 tweepy-3.5.0\n"
     ]
    }
   ],
   "source": [
    "#Installing the Twitter API\n",
    "!pip install tweepy"
   ]
  },
  {
   "cell_type": "code",
   "execution_count": 1,
   "metadata": {
    "collapsed": true
   },
   "outputs": [],
   "source": [
    "# Importing the Tweepy, Datetime, and json modules\n",
    "from tweepy.streaming import StreamListener\n",
    "from tweepy import OAuthHandler\n",
    "from tweepy import Stream\n",
    "from datetime import datetime\n",
    "import json"
   ]
  },
  {
   "cell_type": "code",
   "execution_count": 2,
   "metadata": {
    "collapsed": true
   },
   "outputs": [],
   "source": [
    "consumer_key = \"XXXXXXXXXXXXXXXXXXXXXXXXXXXX\""
   ]
  },
  {
   "cell_type": "code",
   "execution_count": 3,
   "metadata": {
    "collapsed": true
   },
   "outputs": [],
   "source": [
    "consumer_secret = \"XXXXXXXXXXXXXXXXXXXXXXXXXXXX\""
   ]
  },
  {
   "cell_type": "code",
   "execution_count": 4,
   "metadata": {
    "collapsed": true
   },
   "outputs": [],
   "source": [
    "access_token = \"XXXXXXXXXXXXXXXXXXXXXXXXXXXX\""
   ]
  },
  {
   "cell_type": "code",
   "execution_count": 5,
   "metadata": {
    "collapsed": true
   },
   "outputs": [],
   "source": [
    "access_token_secret = \"XXXXXXXXXXXXXXXXXXXXXXXXXXXX\""
   ]
  },
  {
   "cell_type": "code",
   "execution_count": 6,
   "metadata": {
    "collapsed": true
   },
   "outputs": [],
   "source": [
    "# creating the authentication keys\n",
    "auth = OAuthHandler(consumer_key, consumer_secret)"
   ]
  },
  {
   "cell_type": "code",
   "execution_count": 7,
   "metadata": {
    "collapsed": true
   },
   "outputs": [],
   "source": [
    "auth.set_access_token(access_token, access_token_secret)"
   ]
  },
  {
   "cell_type": "code",
   "execution_count": 8,
   "metadata": {
    "collapsed": true
   },
   "outputs": [],
   "source": [
    "# Creating a class to capture the Twitter data streams and\n",
    "# store in MongoDB\n",
    "class MyListener(StreamListener):\n",
    "    def on_data(self, dados):\n",
    "        tweet = json.loads(dados)\n",
    "        created_at = tweet[\"created_at\"]\n",
    "        id_str = tweet[\"id_str\"]\n",
    "        text = tweet[\"text\"]\n",
    "        obj = {\"created_at\":created_at,\"id_str\":id_str,\"text\":text,}\n",
    "        tweetind = col.insert_one(obj).inserted_id\n",
    "        print (obj)\n",
    "        return True"
   ]
  },
  {
   "cell_type": "code",
   "execution_count": 9,
   "metadata": {
    "collapsed": true
   },
   "outputs": [],
   "source": [
    "# Creating the myListener object\n",
    "mylistener = MyListener()"
   ]
  },
  {
   "cell_type": "code",
   "execution_count": 10,
   "metadata": {
    "collapsed": true
   },
   "outputs": [],
   "source": [
    "# Creating the mystream object\n",
    "mystream = Stream(auth, listener = mylistener)"
   ]
  },
  {
   "cell_type": "code",
   "execution_count": 11,
   "metadata": {
    "collapsed": true
   },
   "outputs": [],
   "source": [
    "from pymongo import MongoClient"
   ]
  },
  {
   "cell_type": "code",
   "execution_count": 12,
   "metadata": {
    "collapsed": true
   },
   "outputs": [],
   "source": [
    "# Creating the connection to Mongodb\n",
    "client = MongoClient('localhost', 27017)"
   ]
  },
  {
   "cell_type": "code",
   "execution_count": 13,
   "metadata": {
    "collapsed": true
   },
   "outputs": [],
   "source": [
    "# Creating the twitter database twitterdb\n",
    "db = client.twitterdb"
   ]
  },
  {
   "cell_type": "code",
   "execution_count": 14,
   "metadata": {
    "collapsed": true
   },
   "outputs": [],
   "source": [
    "# Create a cllection \"col\"\n",
    "col = db.tweets"
   ]
  },
  {
   "cell_type": "code",
   "execution_count": 15,
   "metadata": {
    "collapsed": true
   },
   "outputs": [],
   "source": [
    "# Creating a list of keywords to search in Tweets\n",
    "keywords = ['#maroon5nomultishow']"
   ]
  },
  {
   "cell_type": "code",
   "execution_count": 16,
   "metadata": {
    "collapsed": true,
    "scrolled": false
   },
   "outputs": [],
   "source": [
    "# Starting the filter and saving the tweets in MongoDB\n",
    "mystream.filter(track=keywords)"
   ]
  },
  {
   "cell_type": "code",
   "execution_count": 17,
   "metadata": {
    "collapsed": true
   },
   "outputs": [],
   "source": [
    "mystream.disconnect()"
   ]
  },
  {
   "cell_type": "code",
   "execution_count": 18,
   "metadata": {},
   "outputs": [
    {
     "data": {
      "text/plain": [
       "{'_id': ObjectId('59a8e9791505f218519d4f3a'),\n",
       " 'created_at': 'Fri Sep 01 05:00:41 +0000 2017',\n",
       " 'id_str': '903482721263001600',\n",
       " 'text': 'RT @ProfesionLider: “El tema de big data pareciera algo distante, pero está llegando a todos nosotros y está cambiando el mercado”, con… '}"
      ]
     },
     "execution_count": 18,
     "metadata": {},
     "output_type": "execute_result"
    }
   ],
   "source": [
    "# Checking a document in the collection\n",
    "col.find_one()"
   ]
  },
  {
   "cell_type": "code",
   "execution_count": 19,
   "metadata": {
    "collapsed": true
   },
   "outputs": [],
   "source": [
    "# Creating a Dataset with Data Returned\n",
    "dataset = [{\"created_at\": item[\"created_at\"],\n",
    "            \"text\": item[\"text\"],\n",
    "           } for item in col.find()]"
   ]
  },
  {
   "cell_type": "code",
   "execution_count": 20,
   "metadata": {
    "collapsed": true
   },
   "outputs": [],
   "source": [
    "# importing the Pandas module to work with datasets in Python\n",
    "import pandas as pd"
   ]
  },
  {
   "cell_type": "code",
   "execution_count": 21,
   "metadata": {
    "collapsed": true
   },
   "outputs": [],
   "source": [
    "# Creating a dataframe from the dataset\n",
    "df = pd.DataFrame(dataset)"
   ]
  },
  {
   "cell_type": "code",
   "execution_count": 22,
   "metadata": {
    "collapsed": true
   },
   "outputs": [
    {
     "data": {
      "text/html": [
       "<div>\n",
       "<style>\n",
       "    .dataframe thead tr:only-child th {\n",
       "        text-align: right;\n",
       "    }\n",
       "\n",
       "    .dataframe thead th {\n",
       "        text-align: left;\n",
       "    }\n",
       "\n",
       "    .dataframe tbody tr th {\n",
       "        vertical-align: top;\n",
       "    }\n",
       "</style>\n",
       "<table border=\"1\" class=\"dataframe\">\n",
       "  <thead>\n",
       "    <tr style=\"text-align: right;\">\n",
       "      <th></th>\n",
       "      <th>created_at</th>\n",
       "      <th>text</th>\n",
       "    </tr>\n",
       "  </thead>\n",
       "  <tbody>\n",
       "    <tr>\n",
       "      <th>0</th>\n",
       "      <td>Fri Sep 01 05:00:41 +0000 2017</td>\n",
       "      <td>RT @ProfesionLider: “El tema de big data parec...</td>\n",
       "    </tr>\n",
       "    <tr>\n",
       "      <th>1</th>\n",
       "      <td>Fri Sep 01 05:00:46 +0000 2017</td>\n",
       "      <td>Once upon a time, Python the complicated objec...</td>\n",
       "    </tr>\n",
       "    <tr>\n",
       "      <th>2</th>\n",
       "      <td>Fri Sep 01 05:00:51 +0000 2017</td>\n",
       "      <td>RT @duvion_S: @pyconnigeria @__olamilekan__ in...</td>\n",
       "    </tr>\n",
       "    <tr>\n",
       "      <th>3</th>\n",
       "      <td>Fri Sep 01 05:00:51 +0000 2017</td>\n",
       "      <td>VMwareAU : Quantum AI Big Data Cloud Advanced ...</td>\n",
       "    </tr>\n",
       "    <tr>\n",
       "      <th>4</th>\n",
       "      <td>Fri Sep 01 05:00:53 +0000 2017</td>\n",
       "      <td>RT @santamonicamoe: @Mediaite 1/ He &amp;amp; Trum...</td>\n",
       "    </tr>\n",
       "    <tr>\n",
       "      <th>5</th>\n",
       "      <td>Fri Sep 01 05:00:54 +0000 2017</td>\n",
       "      <td>【対象】\\n『Python機械学習ことはじめ - Qiita Qiita』 https://...</td>\n",
       "    </tr>\n",
       "    <tr>\n",
       "      <th>6</th>\n",
       "      <td>Fri Sep 01 05:00:56 +0000 2017</td>\n",
       "      <td>“Overcoming the Hurdles of Big Data in Marketi...</td>\n",
       "    </tr>\n",
       "    <tr>\n",
       "      <th>7</th>\n",
       "      <td>Fri Sep 01 05:01:01 +0000 2017</td>\n",
       "      <td>RT @JavascriptBot_: Using Python to Access Web...</td>\n",
       "    </tr>\n",
       "    <tr>\n",
       "      <th>8</th>\n",
       "      <td>Fri Sep 01 05:01:01 +0000 2017</td>\n",
       "      <td>RT @bcrypt: tfw a journalist catches ur airgap...</td>\n",
       "    </tr>\n",
       "    <tr>\n",
       "      <th>9</th>\n",
       "      <td>Fri Sep 01 05:01:05 +0000 2017</td>\n",
       "      <td>Inteligencia artificial y Big Data para impuls...</td>\n",
       "    </tr>\n",
       "    <tr>\n",
       "      <th>10</th>\n",
       "      <td>Fri Sep 01 05:01:49 +0000 2017</td>\n",
       "      <td>How Walmart Is Using Machine Learning AI, IoT ...</td>\n",
       "    </tr>\n",
       "    <tr>\n",
       "      <th>11</th>\n",
       "      <td>Fri Sep 01 05:01:53 +0000 2017</td>\n",
       "      <td>RT @gp_pulipaka: #Python #DataScience Handbook...</td>\n",
       "    </tr>\n",
       "    <tr>\n",
       "      <th>12</th>\n",
       "      <td>Fri Sep 01 05:01:57 +0000 2017</td>\n",
       "      <td>RT:  (techjunkiejh) Forrester: Big Data market...</td>\n",
       "    </tr>\n",
       "    <tr>\n",
       "      <th>13</th>\n",
       "      <td>Fri Sep 01 05:01:58 +0000 2017</td>\n",
       "      <td>RT:  (techjunkiejh) The broken promise of open...</td>\n",
       "    </tr>\n",
       "    <tr>\n",
       "      <th>14</th>\n",
       "      <td>Fri Sep 01 05:01:58 +0000 2017</td>\n",
       "      <td>Ivory Female Short-tailed Python by Bob Clark ...</td>\n",
       "    </tr>\n",
       "    <tr>\n",
       "      <th>15</th>\n",
       "      <td>Fri Sep 01 05:01:59 +0000 2017</td>\n",
       "      <td>RT:  (techjunkiejh) Businesses Learning Levera...</td>\n",
       "    </tr>\n",
       "    <tr>\n",
       "      <th>16</th>\n",
       "      <td>Fri Sep 01 05:02:05 +0000 2017</td>\n",
       "      <td>RT @three_cube: How to Find the Exact Location...</td>\n",
       "    </tr>\n",
       "    <tr>\n",
       "      <th>17</th>\n",
       "      <td>Fri Sep 01 05:02:06 +0000 2017</td>\n",
       "      <td>Tweets and python BFF &amp;lt;3 24757763.935295317</td>\n",
       "    </tr>\n",
       "    <tr>\n",
       "      <th>18</th>\n",
       "      <td>Fri Sep 01 05:02:07 +0000 2017</td>\n",
       "      <td>Best Python Training In Bangalore Btm | @scoop...</td>\n",
       "    </tr>\n",
       "    <tr>\n",
       "      <th>19</th>\n",
       "      <td>Fri Sep 01 05:02:14 +0000 2017</td>\n",
       "      <td>RT @MorphMarket: Ivory Female Short-tailed Pyt...</td>\n",
       "    </tr>\n",
       "    <tr>\n",
       "      <th>20</th>\n",
       "      <td>Fri Sep 01 05:02:19 +0000 2017</td>\n",
       "      <td>HalvaForever спрашивает: «Знакомство с Python....</td>\n",
       "    </tr>\n",
       "    <tr>\n",
       "      <th>21</th>\n",
       "      <td>Fri Sep 01 05:02:20 +0000 2017</td>\n",
       "      <td>[Python]Data Scraping from website that’s stin...</td>\n",
       "    </tr>\n",
       "    <tr>\n",
       "      <th>22</th>\n",
       "      <td>Fri Sep 01 05:02:20 +0000 2017</td>\n",
       "      <td>ゲームを遊ぶようにプログラミングを学べる環境：その８\\n【ChekiO】\\nPythonを学...</td>\n",
       "    </tr>\n",
       "    <tr>\n",
       "      <th>23</th>\n",
       "      <td>Fri Sep 01 05:02:34 +0000 2017</td>\n",
       "      <td>GitHubのPR時にPythonでも関数に飛べるようになった / “Quickly rev...</td>\n",
       "    </tr>\n",
       "    <tr>\n",
       "      <th>24</th>\n",
       "      <td>Fri Sep 01 05:02:35 +0000 2017</td>\n",
       "      <td>@NickInfoSec @jessysaurusrex I need all of the...</td>\n",
       "    </tr>\n",
       "    <tr>\n",
       "      <th>25</th>\n",
       "      <td>Fri Sep 01 05:02:42 +0000 2017</td>\n",
       "      <td>\"So...find more favorite things to do! There's...</td>\n",
       "    </tr>\n",
       "    <tr>\n",
       "      <th>26</th>\n",
       "      <td>Fri Sep 01 05:02:46 +0000 2017</td>\n",
       "      <td>yeahh! 😀 🙌 https://t.co/cEoZus76Bw</td>\n",
       "    </tr>\n",
       "    <tr>\n",
       "      <th>27</th>\n",
       "      <td>Fri Sep 01 05:02:47 +0000 2017</td>\n",
       "      <td>RT @maryitotr: jugando con implementación de #...</td>\n",
       "    </tr>\n",
       "    <tr>\n",
       "      <th>28</th>\n",
       "      <td>Fri Sep 01 05:02:48 +0000 2017</td>\n",
       "      <td>RT @bhakt4ever: Also chk banks FInancial Repor...</td>\n",
       "    </tr>\n",
       "    <tr>\n",
       "      <th>29</th>\n",
       "      <td>Fri Sep 01 05:02:52 +0000 2017</td>\n",
       "      <td>#BigData the way startups approach marketing\\n...</td>\n",
       "    </tr>\n",
       "    <tr>\n",
       "      <th>...</th>\n",
       "      <td>...</td>\n",
       "      <td>...</td>\n",
       "    </tr>\n",
       "    <tr>\n",
       "      <th>83531</th>\n",
       "      <td>Sat Sep 16 04:59:00 +0000 2017</td>\n",
       "      <td>RT @bornforthix: adam levine e rodrigo hilbert...</td>\n",
       "    </tr>\n",
       "    <tr>\n",
       "      <th>83532</th>\n",
       "      <td>Sat Sep 16 04:59:00 +0000 2017</td>\n",
       "      <td>#Maroon5NoMultishow passando pra lembrar que a...</td>\n",
       "    </tr>\n",
       "    <tr>\n",
       "      <th>83533</th>\n",
       "      <td>Sat Sep 16 04:59:00 +0000 2017</td>\n",
       "      <td>#Maroon5NoMultishow até amanhã meus amores</td>\n",
       "    </tr>\n",
       "    <tr>\n",
       "      <th>83534</th>\n",
       "      <td>Sat Sep 16 04:59:00 +0000 2017</td>\n",
       "      <td>RT @itisbeam: Que showzão da pega! ❤❤❤ #Maroon...</td>\n",
       "    </tr>\n",
       "    <tr>\n",
       "      <th>83535</th>\n",
       "      <td>Sat Sep 16 04:59:00 +0000 2017</td>\n",
       "      <td>Que show foi esse, ainda bem que amanhã tem ma...</td>\n",
       "    </tr>\n",
       "    <tr>\n",
       "      <th>83536</th>\n",
       "      <td>Sat Sep 16 04:59:00 +0000 2017</td>\n",
       "      <td>Maroon 5 foi foooodaaaaaaaaa 😍\\n#Maroon5NoMult...</td>\n",
       "    </tr>\n",
       "    <tr>\n",
       "      <th>83537</th>\n",
       "      <td>Sat Sep 16 04:59:00 +0000 2017</td>\n",
       "      <td>RT @_jessicagms: Aquela conversa com o garçom:...</td>\n",
       "    </tr>\n",
       "    <tr>\n",
       "      <th>83538</th>\n",
       "      <td>Sat Sep 16 04:59:00 +0000 2017</td>\n",
       "      <td>RT @multishow: YES, PLEASE! @maroon5 fechando ...</td>\n",
       "    </tr>\n",
       "    <tr>\n",
       "      <th>83539</th>\n",
       "      <td>Sat Sep 16 04:59:00 +0000 2017</td>\n",
       "      <td>RT @multishow: LINDO, LINDO! Obrigado, @maroon...</td>\n",
       "    </tr>\n",
       "    <tr>\n",
       "      <th>83540</th>\n",
       "      <td>Sat Sep 16 04:59:00 +0000 2017</td>\n",
       "      <td>NÃO, SÓ QUERO MAIS!!!!! #Maroon5NoRockInRio #M...</td>\n",
       "    </tr>\n",
       "    <tr>\n",
       "      <th>83541</th>\n",
       "      <td>Sat Sep 16 04:59:00 +0000 2017</td>\n",
       "      <td>Vou guardar o vídeo do Adam cantando garota de...</td>\n",
       "    </tr>\n",
       "    <tr>\n",
       "      <th>83542</th>\n",
       "      <td>Sat Sep 16 04:59:00 +0000 2017</td>\n",
       "      <td>RT @focadameianoite: Vou antecipar! ♥\\nDon't W...</td>\n",
       "    </tr>\n",
       "    <tr>\n",
       "      <th>83543</th>\n",
       "      <td>Sat Sep 16 04:59:00 +0000 2017</td>\n",
       "      <td>RT @multishow: \"That someday it would lead me ...</td>\n",
       "    </tr>\n",
       "    <tr>\n",
       "      <th>83544</th>\n",
       "      <td>Sat Sep 16 04:59:00 +0000 2017</td>\n",
       "      <td>RT @ALISONBUGADA: Adam cantando Garota de Ipan...</td>\n",
       "    </tr>\n",
       "    <tr>\n",
       "      <th>83545</th>\n",
       "      <td>Sat Sep 16 04:59:00 +0000 2017</td>\n",
       "      <td>foi um prazer glr  #maroon5nomultishow</td>\n",
       "    </tr>\n",
       "    <tr>\n",
       "      <th>83546</th>\n",
       "      <td>Sat Sep 16 04:59:00 +0000 2017</td>\n",
       "      <td>RT @eduardozero: acabou :( #RockInRio #Maroon5...</td>\n",
       "    </tr>\n",
       "    <tr>\n",
       "      <th>83547</th>\n",
       "      <td>Sat Sep 16 04:59:00 +0000 2017</td>\n",
       "      <td>RT @sueellenliesch: esse sorriso pode acabar c...</td>\n",
       "    </tr>\n",
       "    <tr>\n",
       "      <th>83548</th>\n",
       "      <td>Sat Sep 16 04:59:00 +0000 2017</td>\n",
       "      <td>QUE SHOWZÃO DA PORRA #Maroon5NoMultishow</td>\n",
       "    </tr>\n",
       "    <tr>\n",
       "      <th>83549</th>\n",
       "      <td>Sat Sep 16 04:59:00 +0000 2017</td>\n",
       "      <td>nem acredito que ja acabou, mas amanha tem mai...</td>\n",
       "    </tr>\n",
       "    <tr>\n",
       "      <th>83550</th>\n",
       "      <td>Sat Sep 16 04:59:00 +0000 2017</td>\n",
       "      <td>@rodrigues_jadh se servir de consolo, amanhã v...</td>\n",
       "    </tr>\n",
       "    <tr>\n",
       "      <th>83551</th>\n",
       "      <td>Sat Sep 16 04:59:00 +0000 2017</td>\n",
       "      <td>o público deixou muito a desejar, falo mesmo!!...</td>\n",
       "    </tr>\n",
       "    <tr>\n",
       "      <th>83552</th>\n",
       "      <td>Sat Sep 16 04:59:00 +0000 2017</td>\n",
       "      <td>RT @multishow: AMANHÃ TEM MAIS! @maroon5 #Maro...</td>\n",
       "    </tr>\n",
       "    <tr>\n",
       "      <th>83553</th>\n",
       "      <td>Sat Sep 16 04:59:00 +0000 2017</td>\n",
       "      <td>RT @thaymartinsd: LINDOS DEMAAAAAISSSS #Maroon...</td>\n",
       "    </tr>\n",
       "    <tr>\n",
       "      <th>83554</th>\n",
       "      <td>Sat Sep 16 04:59:00 +0000 2017</td>\n",
       "      <td>RT @multishow: Quem aí tá ligando pro crush ou...</td>\n",
       "    </tr>\n",
       "    <tr>\n",
       "      <th>83555</th>\n",
       "      <td>Sat Sep 16 04:59:00 +0000 2017</td>\n",
       "      <td>RT @kardashiansara: HOJE FOI BOM E AMANHÃ TEM ...</td>\n",
       "    </tr>\n",
       "    <tr>\n",
       "      <th>83556</th>\n",
       "      <td>Sat Sep 16 04:59:00 +0000 2017</td>\n",
       "      <td>RT @BiaBiglesias: #Maroon5NoMultishow porque e...</td>\n",
       "    </tr>\n",
       "    <tr>\n",
       "      <th>83557</th>\n",
       "      <td>Sat Sep 16 04:59:01 +0000 2017</td>\n",
       "      <td>Quero chegar nessa idade com esse pique #Maroo...</td>\n",
       "    </tr>\n",
       "    <tr>\n",
       "      <th>83558</th>\n",
       "      <td>Sat Sep 16 04:59:01 +0000 2017</td>\n",
       "      <td>RT @eeoberg: eu não tenho estruturas pra  \"Sug...</td>\n",
       "    </tr>\n",
       "    <tr>\n",
       "      <th>83559</th>\n",
       "      <td>Sat Sep 16 04:59:01 +0000 2017</td>\n",
       "      <td>#Maroon5NoMultishow QUE SHOWZÃO DA PORRA VAI S...</td>\n",
       "    </tr>\n",
       "    <tr>\n",
       "      <th>83560</th>\n",
       "      <td>Sat Sep 16 04:59:01 +0000 2017</td>\n",
       "      <td>RT @luanlovato: alguém tira a guitarra do adam...</td>\n",
       "    </tr>\n",
       "  </tbody>\n",
       "</table>\n",
       "<p>83561 rows × 2 columns</p>\n",
       "</div>"
      ],
      "text/plain": [
       "                           created_at  \\\n",
       "0      Fri Sep 01 05:00:41 +0000 2017   \n",
       "1      Fri Sep 01 05:00:46 +0000 2017   \n",
       "2      Fri Sep 01 05:00:51 +0000 2017   \n",
       "3      Fri Sep 01 05:00:51 +0000 2017   \n",
       "4      Fri Sep 01 05:00:53 +0000 2017   \n",
       "5      Fri Sep 01 05:00:54 +0000 2017   \n",
       "6      Fri Sep 01 05:00:56 +0000 2017   \n",
       "7      Fri Sep 01 05:01:01 +0000 2017   \n",
       "8      Fri Sep 01 05:01:01 +0000 2017   \n",
       "9      Fri Sep 01 05:01:05 +0000 2017   \n",
       "10     Fri Sep 01 05:01:49 +0000 2017   \n",
       "11     Fri Sep 01 05:01:53 +0000 2017   \n",
       "12     Fri Sep 01 05:01:57 +0000 2017   \n",
       "13     Fri Sep 01 05:01:58 +0000 2017   \n",
       "14     Fri Sep 01 05:01:58 +0000 2017   \n",
       "15     Fri Sep 01 05:01:59 +0000 2017   \n",
       "16     Fri Sep 01 05:02:05 +0000 2017   \n",
       "17     Fri Sep 01 05:02:06 +0000 2017   \n",
       "18     Fri Sep 01 05:02:07 +0000 2017   \n",
       "19     Fri Sep 01 05:02:14 +0000 2017   \n",
       "20     Fri Sep 01 05:02:19 +0000 2017   \n",
       "21     Fri Sep 01 05:02:20 +0000 2017   \n",
       "22     Fri Sep 01 05:02:20 +0000 2017   \n",
       "23     Fri Sep 01 05:02:34 +0000 2017   \n",
       "24     Fri Sep 01 05:02:35 +0000 2017   \n",
       "25     Fri Sep 01 05:02:42 +0000 2017   \n",
       "26     Fri Sep 01 05:02:46 +0000 2017   \n",
       "27     Fri Sep 01 05:02:47 +0000 2017   \n",
       "28     Fri Sep 01 05:02:48 +0000 2017   \n",
       "29     Fri Sep 01 05:02:52 +0000 2017   \n",
       "...                               ...   \n",
       "83531  Sat Sep 16 04:59:00 +0000 2017   \n",
       "83532  Sat Sep 16 04:59:00 +0000 2017   \n",
       "83533  Sat Sep 16 04:59:00 +0000 2017   \n",
       "83534  Sat Sep 16 04:59:00 +0000 2017   \n",
       "83535  Sat Sep 16 04:59:00 +0000 2017   \n",
       "83536  Sat Sep 16 04:59:00 +0000 2017   \n",
       "83537  Sat Sep 16 04:59:00 +0000 2017   \n",
       "83538  Sat Sep 16 04:59:00 +0000 2017   \n",
       "83539  Sat Sep 16 04:59:00 +0000 2017   \n",
       "83540  Sat Sep 16 04:59:00 +0000 2017   \n",
       "83541  Sat Sep 16 04:59:00 +0000 2017   \n",
       "83542  Sat Sep 16 04:59:00 +0000 2017   \n",
       "83543  Sat Sep 16 04:59:00 +0000 2017   \n",
       "83544  Sat Sep 16 04:59:00 +0000 2017   \n",
       "83545  Sat Sep 16 04:59:00 +0000 2017   \n",
       "83546  Sat Sep 16 04:59:00 +0000 2017   \n",
       "83547  Sat Sep 16 04:59:00 +0000 2017   \n",
       "83548  Sat Sep 16 04:59:00 +0000 2017   \n",
       "83549  Sat Sep 16 04:59:00 +0000 2017   \n",
       "83550  Sat Sep 16 04:59:00 +0000 2017   \n",
       "83551  Sat Sep 16 04:59:00 +0000 2017   \n",
       "83552  Sat Sep 16 04:59:00 +0000 2017   \n",
       "83553  Sat Sep 16 04:59:00 +0000 2017   \n",
       "83554  Sat Sep 16 04:59:00 +0000 2017   \n",
       "83555  Sat Sep 16 04:59:00 +0000 2017   \n",
       "83556  Sat Sep 16 04:59:00 +0000 2017   \n",
       "83557  Sat Sep 16 04:59:01 +0000 2017   \n",
       "83558  Sat Sep 16 04:59:01 +0000 2017   \n",
       "83559  Sat Sep 16 04:59:01 +0000 2017   \n",
       "83560  Sat Sep 16 04:59:01 +0000 2017   \n",
       "\n",
       "                                                    text  \n",
       "0      RT @ProfesionLider: “El tema de big data parec...  \n",
       "1      Once upon a time, Python the complicated objec...  \n",
       "2      RT @duvion_S: @pyconnigeria @__olamilekan__ in...  \n",
       "3      VMwareAU : Quantum AI Big Data Cloud Advanced ...  \n",
       "4      RT @santamonicamoe: @Mediaite 1/ He &amp; Trum...  \n",
       "5      【対象】\\n『Python機械学習ことはじめ - Qiita Qiita』 https://...  \n",
       "6      “Overcoming the Hurdles of Big Data in Marketi...  \n",
       "7      RT @JavascriptBot_: Using Python to Access Web...  \n",
       "8      RT @bcrypt: tfw a journalist catches ur airgap...  \n",
       "9      Inteligencia artificial y Big Data para impuls...  \n",
       "10     How Walmart Is Using Machine Learning AI, IoT ...  \n",
       "11     RT @gp_pulipaka: #Python #DataScience Handbook...  \n",
       "12     RT:  (techjunkiejh) Forrester: Big Data market...  \n",
       "13     RT:  (techjunkiejh) The broken promise of open...  \n",
       "14     Ivory Female Short-tailed Python by Bob Clark ...  \n",
       "15     RT:  (techjunkiejh) Businesses Learning Levera...  \n",
       "16     RT @three_cube: How to Find the Exact Location...  \n",
       "17        Tweets and python BFF &lt;3 24757763.935295317  \n",
       "18     Best Python Training In Bangalore Btm | @scoop...  \n",
       "19     RT @MorphMarket: Ivory Female Short-tailed Pyt...  \n",
       "20     HalvaForever спрашивает: «Знакомство с Python....  \n",
       "21     [Python]Data Scraping from website that’s stin...  \n",
       "22     ゲームを遊ぶようにプログラミングを学べる環境：その８\\n【ChekiO】\\nPythonを学...  \n",
       "23     GitHubのPR時にPythonでも関数に飛べるようになった / “Quickly rev...  \n",
       "24     @NickInfoSec @jessysaurusrex I need all of the...  \n",
       "25     \"So...find more favorite things to do! There's...  \n",
       "26                    yeahh! 😀 🙌 https://t.co/cEoZus76Bw  \n",
       "27     RT @maryitotr: jugando con implementación de #...  \n",
       "28     RT @bhakt4ever: Also chk banks FInancial Repor...  \n",
       "29     #BigData the way startups approach marketing\\n...  \n",
       "...                                                  ...  \n",
       "83531  RT @bornforthix: adam levine e rodrigo hilbert...  \n",
       "83532  #Maroon5NoMultishow passando pra lembrar que a...  \n",
       "83533         #Maroon5NoMultishow até amanhã meus amores  \n",
       "83534  RT @itisbeam: Que showzão da pega! ❤❤❤ #Maroon...  \n",
       "83535  Que show foi esse, ainda bem que amanhã tem ma...  \n",
       "83536  Maroon 5 foi foooodaaaaaaaaa 😍\\n#Maroon5NoMult...  \n",
       "83537  RT @_jessicagms: Aquela conversa com o garçom:...  \n",
       "83538  RT @multishow: YES, PLEASE! @maroon5 fechando ...  \n",
       "83539  RT @multishow: LINDO, LINDO! Obrigado, @maroon...  \n",
       "83540  NÃO, SÓ QUERO MAIS!!!!! #Maroon5NoRockInRio #M...  \n",
       "83541  Vou guardar o vídeo do Adam cantando garota de...  \n",
       "83542  RT @focadameianoite: Vou antecipar! ♥\\nDon't W...  \n",
       "83543  RT @multishow: \"That someday it would lead me ...  \n",
       "83544  RT @ALISONBUGADA: Adam cantando Garota de Ipan...  \n",
       "83545             foi um prazer glr  #maroon5nomultishow  \n",
       "83546  RT @eduardozero: acabou :( #RockInRio #Maroon5...  \n",
       "83547  RT @sueellenliesch: esse sorriso pode acabar c...  \n",
       "83548           QUE SHOWZÃO DA PORRA #Maroon5NoMultishow  \n",
       "83549  nem acredito que ja acabou, mas amanha tem mai...  \n",
       "83550  @rodrigues_jadh se servir de consolo, amanhã v...  \n",
       "83551  o público deixou muito a desejar, falo mesmo!!...  \n",
       "83552  RT @multishow: AMANHÃ TEM MAIS! @maroon5 #Maro...  \n",
       "83553  RT @thaymartinsd: LINDOS DEMAAAAAISSSS #Maroon...  \n",
       "83554  RT @multishow: Quem aí tá ligando pro crush ou...  \n",
       "83555  RT @kardashiansara: HOJE FOI BOM E AMANHÃ TEM ...  \n",
       "83556  RT @BiaBiglesias: #Maroon5NoMultishow porque e...  \n",
       "83557  Quero chegar nessa idade com esse pique #Maroo...  \n",
       "83558  RT @eeoberg: eu não tenho estruturas pra  \"Sug...  \n",
       "83559  #Maroon5NoMultishow QUE SHOWZÃO DA PORRA VAI S...  \n",
       "83560  RT @luanlovato: alguém tira a guitarra do adam...  \n",
       "\n",
       "[83561 rows x 2 columns]"
      ]
     },
     "execution_count": 22,
     "metadata": {},
     "output_type": "execute_result"
    }
   ],
   "source": [
    "# Printing the dataframe\n",
    "df"
   ]
  },
  {
   "cell_type": "code",
   "execution_count": 23,
   "metadata": {
    "collapsed": true
   },
   "outputs": [],
   "source": [
    "# Importing the Scikit Learn Module\n",
    "from sklearn.feature_extraction.text import CountVectorizer"
   ]
  },
  {
   "cell_type": "code",
   "execution_count": 24,
   "metadata": {
    "collapsed": true
   },
   "outputs": [],
   "source": [
    "# Using the CountVectorizer method to create an array of documents\n",
    "cv = CountVectorizer()\n",
    "count_matrix = cv.fit_transform(df.text)"
   ]
  },
  {
   "cell_type": "code",
   "execution_count": 25,
   "metadata": {},
   "outputs": [
    {
     "data": {
      "text/html": [
       "<div>\n",
       "<style>\n",
       "    .dataframe thead tr:only-child th {\n",
       "        text-align: right;\n",
       "    }\n",
       "\n",
       "    .dataframe thead th {\n",
       "        text-align: left;\n",
       "    }\n",
       "\n",
       "    .dataframe tbody tr th {\n",
       "        vertical-align: top;\n",
       "    }\n",
       "</style>\n",
       "<table border=\"1\" class=\"dataframe\">\n",
       "  <thead>\n",
       "    <tr style=\"text-align: right;\">\n",
       "      <th></th>\n",
       "      <th>word</th>\n",
       "      <th>count</th>\n",
       "    </tr>\n",
       "  </thead>\n",
       "  <tbody>\n",
       "    <tr>\n",
       "      <th>0</th>\n",
       "      <td>rt</td>\n",
       "      <td>43464</td>\n",
       "    </tr>\n",
       "    <tr>\n",
       "      <th>1</th>\n",
       "      <td>maroon5nomultishow</td>\n",
       "      <td>40229</td>\n",
       "    </tr>\n",
       "    <tr>\n",
       "      <th>2</th>\n",
       "      <td>masterchefbr</td>\n",
       "      <td>35489</td>\n",
       "    </tr>\n",
       "    <tr>\n",
       "      <th>3</th>\n",
       "      <td>https</td>\n",
       "      <td>30744</td>\n",
       "    </tr>\n",
       "    <tr>\n",
       "      <th>4</th>\n",
       "      <td>co</td>\n",
       "      <td>30127</td>\n",
       "    </tr>\n",
       "    <tr>\n",
       "      <th>5</th>\n",
       "      <td>que</td>\n",
       "      <td>21192</td>\n",
       "    </tr>\n",
       "    <tr>\n",
       "      <th>6</th>\n",
       "      <td>de</td>\n",
       "      <td>15258</td>\n",
       "    </tr>\n",
       "    <tr>\n",
       "      <th>7</th>\n",
       "      <td>eu</td>\n",
       "      <td>15126</td>\n",
       "    </tr>\n",
       "    <tr>\n",
       "      <th>8</th>\n",
       "      <td>não</td>\n",
       "      <td>10185</td>\n",
       "    </tr>\n",
       "    <tr>\n",
       "      <th>9</th>\n",
       "      <td>do</td>\n",
       "      <td>9769</td>\n",
       "    </tr>\n",
       "  </tbody>\n",
       "</table>\n",
       "</div>"
      ],
      "text/plain": [
       "                 word  count\n",
       "0                  rt  43464\n",
       "1  maroon5nomultishow  40229\n",
       "2        masterchefbr  35489\n",
       "3               https  30744\n",
       "4                  co  30127\n",
       "5                 que  21192\n",
       "6                  de  15258\n",
       "7                  eu  15126\n",
       "8                 não  10185\n",
       "9                  do   9769"
      ]
     },
     "execution_count": 25,
     "metadata": {},
     "output_type": "execute_result"
    }
   ],
   "source": [
    "# Counting the number of occurrences of the main words in our dataset\n",
    "word_count = pd.DataFrame(cv.get_feature_names(), columns=[\"word\"])\n",
    "word_count[\"count\"] = count_matrix.sum(axis=0).tolist()[0]\n",
    "word_count = word_count.sort_values(\"count\", ascending=False).reset_index(drop=True)\n",
    "word_count[:10]"
   ]
  }
 ],
 "metadata": {
  "kernelspec": {
   "display_name": "Python 3",
   "language": "python",
   "name": "python3"
  },
  "language_info": {
   "codemirror_mode": {
    "name": "ipython",
    "version": 3
   },
   "file_extension": ".py",
   "mimetype": "text/x-python",
   "name": "python",
   "nbconvert_exporter": "python",
   "pygments_lexer": "ipython3",
   "version": "3.6.1"
  }
 },
 "nbformat": 4,
 "nbformat_minor": 2
}
